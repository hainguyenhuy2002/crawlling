{
 "cells": [
  {
   "cell_type": "code",
   "execution_count": 1,
   "metadata": {},
   "outputs": [],
   "source": [
    "from utils.logger_utils import *\n",
    "from socials.questn_users_crawler import *\n",
    "from databases.social_users_db import *\n",
    "from cli.crawl_social_account import *\n"
   ]
  },
  {
   "cell_type": "code",
   "execution_count": 2,
   "metadata": {},
   "outputs": [
    {
     "name": "stderr",
     "output_type": "stream",
     "text": [
      "[04-12-2023 20:56:38 +07] [INFO] [QuestN User Crawler] - Loaded 100 quests after page [1]\n",
      "[04-12-2023 20:56:42 +07] [INFO] [QuestN User Crawler] - Loaded 200 quests after page [2]\n",
      "[04-12-2023 20:56:45 +07] [INFO] [QuestN User Crawler] - Loaded 300 quests after page [3]\n",
      "[04-12-2023 20:56:48 +07] [INFO] [QuestN User Crawler] - Loaded 400 quests after page [4]\n",
      "[04-12-2023 20:56:51 +07] [INFO] [QuestN User Crawler] - Loaded 500 quests after page [5]\n",
      "[04-12-2023 20:56:55 +07] [INFO] [QuestN User Crawler] - Loaded 600 quests after page [6]\n",
      "[04-12-2023 20:56:58 +07] [INFO] [QuestN User Crawler] - Loaded 700 quests after page [7]\n",
      "[04-12-2023 20:57:01 +07] [INFO] [QuestN User Crawler] - Loaded 800 quests after page [8]\n",
      "[04-12-2023 20:57:04 +07] [INFO] [QuestN User Crawler] - Loaded 900 quests after page [9]\n",
      "[04-12-2023 20:57:08 +07] [INFO] [QuestN User Crawler] - Loaded 1000 quests after page [10]\n",
      "[04-12-2023 20:57:11 +07] [INFO] [QuestN User Crawler] - Loaded 1100 quests after page [11]\n",
      "[04-12-2023 20:57:15 +07] [INFO] [QuestN User Crawler] - Loaded 1200 quests after page [12]\n",
      "[04-12-2023 20:57:18 +07] [INFO] [QuestN User Crawler] - Loaded 1300 quests after page [13]\n",
      "[04-12-2023 20:57:21 +07] [INFO] [QuestN User Crawler] - Loaded 1400 quests after page [14]\n",
      "[04-12-2023 20:57:25 +07] [INFO] [QuestN User Crawler] - Loaded 1500 quests after page [15]\n",
      "[04-12-2023 20:57:28 +07] [INFO] [QuestN User Crawler] - Loaded 1600 quests after page [16]\n",
      "[04-12-2023 20:57:32 +07] [INFO] [QuestN User Crawler] - Loaded 1700 quests after page [17]\n",
      "[04-12-2023 20:57:35 +07] [INFO] [QuestN User Crawler] - Loaded 1800 quests after page [18]\n",
      "[04-12-2023 20:57:38 +07] [INFO] [QuestN User Crawler] - Loaded 1900 quests after page [19]\n",
      "[04-12-2023 20:57:41 +07] [INFO] [QuestN User Crawler] - Loaded 2000 quests after page [20]\n",
      "[04-12-2023 20:57:44 +07] [INFO] [QuestN User Crawler] - Loaded 2100 quests after page [21]\n",
      "[04-12-2023 20:57:50 +07] [INFO] [QuestN User Crawler] - Loaded 2200 quests after page [22]\n",
      "[04-12-2023 20:57:53 +07] [INFO] [QuestN User Crawler] - Loaded 2300 quests after page [23]\n",
      "[04-12-2023 20:57:56 +07] [INFO] [QuestN User Crawler] - Loaded 2400 quests after page [24]\n",
      "[04-12-2023 20:57:59 +07] [INFO] [QuestN User Crawler] - Loaded 2500 quests after page [25]\n",
      "[04-12-2023 20:58:03 +07] [INFO] [QuestN User Crawler] - Loaded 2600 quests after page [26]\n",
      "[04-12-2023 20:58:06 +07] [INFO] [QuestN User Crawler] - Loaded 2700 quests after page [27]\n",
      "[04-12-2023 20:58:09 +07] [INFO] [QuestN User Crawler] - Loaded 2800 quests after page [28]\n",
      "[04-12-2023 20:58:12 +07] [INFO] [QuestN User Crawler] - Loaded 2900 quests after page [29]\n",
      "[04-12-2023 20:58:15 +07] [INFO] [QuestN User Crawler] - Loaded 3000 quests after page [30]\n",
      "[04-12-2023 20:58:22 +07] [INFO] [QuestN User Crawler] - Loaded 3100 quests after page [31]\n",
      "[04-12-2023 20:58:25 +07] [INFO] [QuestN User Crawler] - Loaded 3200 quests after page [32]\n",
      "[04-12-2023 20:58:28 +07] [INFO] [QuestN User Crawler] - Loaded 3300 quests after page [33]\n",
      "[04-12-2023 20:58:31 +07] [INFO] [QuestN User Crawler] - Loaded 3400 quests after page [34]\n",
      "[04-12-2023 20:58:35 +07] [INFO] [QuestN User Crawler] - Loaded 3500 quests after page [35]\n",
      "[04-12-2023 20:58:38 +07] [INFO] [QuestN User Crawler] - Loaded 3600 quests after page [36]\n",
      "[04-12-2023 20:58:41 +07] [INFO] [QuestN User Crawler] - Loaded 3700 quests after page [37]\n",
      "[04-12-2023 20:58:44 +07] [INFO] [QuestN User Crawler] - Loaded 3800 quests after page [38]\n",
      "[04-12-2023 20:58:47 +07] [INFO] [QuestN User Crawler] - Loaded 3900 quests after page [39]\n",
      "[04-12-2023 20:58:50 +07] [INFO] [QuestN User Crawler] - Loaded 4000 quests after page [40]\n",
      "[04-12-2023 20:58:53 +07] [INFO] [QuestN User Crawler] - Loaded 4100 quests after page [41]\n",
      "[04-12-2023 20:58:56 +07] [INFO] [QuestN User Crawler] - Loaded 4200 quests after page [42]\n",
      "[04-12-2023 20:59:00 +07] [INFO] [QuestN User Crawler] - Loaded 4300 quests after page [43]\n",
      "[04-12-2023 20:59:04 +07] [INFO] [QuestN User Crawler] - Loaded 4400 quests after page [44]\n",
      "[04-12-2023 20:59:09 +07] [INFO] [QuestN User Crawler] - Loaded 4500 quests after page [45]\n",
      "[04-12-2023 20:59:16 +07] [INFO] [QuestN User Crawler] - Loaded 4600 quests after page [46]\n",
      "[04-12-2023 20:59:21 +07] [INFO] [QuestN User Crawler] - Loaded 4700 quests after page [47]\n",
      "[04-12-2023 20:59:27 +07] [INFO] [QuestN User Crawler] - Loaded 4800 quests after page [48]\n",
      "[04-12-2023 20:59:32 +07] [INFO] [QuestN User Crawler] - Loaded 4900 quests after page [49]\n",
      "[04-12-2023 20:59:38 +07] [INFO] [QuestN User Crawler] - Loaded 5000 quests after page [50]\n",
      "[04-12-2023 20:59:47 +07] [INFO] [QuestN User Crawler] - Loaded 5100 quests after page [51]\n",
      "[04-12-2023 20:59:52 +07] [INFO] [QuestN User Crawler] - Loaded 5200 quests after page [52]\n",
      "[04-12-2023 20:59:59 +07] [INFO] [QuestN User Crawler] - Loaded 5300 quests after page [53]\n",
      "[04-12-2023 21:00:06 +07] [INFO] [QuestN User Crawler] - Loaded 5400 quests after page [54]\n",
      "[04-12-2023 21:00:12 +07] [INFO] [QuestN User Crawler] - Loaded 5500 quests after page [55]\n",
      "[04-12-2023 21:00:21 +07] [INFO] [QuestN User Crawler] - Loaded 5600 quests after page [56]\n",
      "[04-12-2023 21:00:31 +07] [INFO] [QuestN User Crawler] - Loaded 5700 quests after page [57]\n",
      "[04-12-2023 21:00:38 +07] [INFO] [QuestN User Crawler] - Loaded 5800 quests after page [58]\n",
      "[04-12-2023 21:00:43 +07] [INFO] [QuestN User Crawler] - Loaded 5900 quests after page [59]\n",
      "[04-12-2023 21:00:49 +07] [INFO] [QuestN User Crawler] - Loaded 6000 quests after page [60]\n",
      "[04-12-2023 21:00:54 +07] [INFO] [QuestN User Crawler] - Loaded 6100 quests after page [61]\n",
      "[04-12-2023 21:01:00 +07] [INFO] [QuestN User Crawler] - Loaded 6200 quests after page [62]\n",
      "[04-12-2023 21:01:06 +07] [INFO] [QuestN User Crawler] - Loaded 6300 quests after page [63]\n",
      "[04-12-2023 21:01:11 +07] [INFO] [QuestN User Crawler] - Loaded 6400 quests after page [64]\n",
      "[04-12-2023 21:01:16 +07] [INFO] [QuestN User Crawler] - Loaded 6500 quests after page [65]\n",
      "[04-12-2023 21:01:25 +07] [INFO] [QuestN User Crawler] - Loaded 6600 quests after page [66]\n",
      "[04-12-2023 21:01:32 +07] [INFO] [QuestN User Crawler] - Loaded 6700 quests after page [67]\n",
      "[04-12-2023 21:01:38 +07] [INFO] [QuestN User Crawler] - Loaded 6800 quests after page [68]\n",
      "[04-12-2023 21:01:44 +07] [INFO] [QuestN User Crawler] - Loaded 6900 quests after page [69]\n",
      "[04-12-2023 21:01:49 +07] [INFO] [QuestN User Crawler] - Loaded 7000 quests after page [70]\n",
      "[04-12-2023 21:01:55 +07] [INFO] [QuestN User Crawler] - Loaded 7100 quests after page [71]\n",
      "[04-12-2023 21:02:00 +07] [INFO] [QuestN User Crawler] - Loaded 7200 quests after page [72]\n",
      "[04-12-2023 21:02:07 +07] [INFO] [QuestN User Crawler] - Loaded 7300 quests after page [73]\n",
      "[04-12-2023 21:02:13 +07] [INFO] [QuestN User Crawler] - Loaded 7400 quests after page [74]\n",
      "[04-12-2023 21:02:21 +07] [INFO] [QuestN User Crawler] - Loaded 7500 quests after page [75]\n",
      "[04-12-2023 21:02:25 +07] [INFO] [QuestN User Crawler] - Loaded 7600 quests after page [76]\n",
      "[04-12-2023 21:02:28 +07] [INFO] [QuestN User Crawler] - Loaded 7635 quests after page [77]\n",
      "[04-12-2023 21:02:29 +07] [INFO] [QuestN User Crawler] - Saved 7635 quests\n"
     ]
    }
   ],
   "source": [
    "QuestNUserCrawler().get_quests()"
   ]
  },
  {
   "cell_type": "code",
   "execution_count": 3,
   "metadata": {},
   "outputs": [
    {
     "ename": "NameError",
     "evalue": "name 'a' is not defined",
     "output_type": "error",
     "traceback": [
      "\u001b[0;31m---------------------------------------------------------------------------\u001b[0m",
      "\u001b[0;31mNameError\u001b[0m                                 Traceback (most recent call last)",
      "\u001b[1;32m/Users/nguyenhuyhai/20222/lab_blockchain/crawl/CrawlSocialData/crawl.ipynb Cell 3'\u001b[0m in \u001b[0;36m<cell line: 1>\u001b[0;34m()\u001b[0m\n\u001b[0;32m----> <a href='vscode-notebook-cell:/Users/nguyenhuyhai/20222/lab_blockchain/crawl/CrawlSocialData/crawl.ipynb#ch0000002?line=0'>1</a>\u001b[0m a\n",
      "\u001b[0;31mNameError\u001b[0m: name 'a' is not defined"
     ]
    }
   ],
   "source": [
    "a"
   ]
  },
  {
   "cell_type": "code",
   "execution_count": null,
   "metadata": {},
   "outputs": [],
   "source": []
  }
 ],
 "metadata": {
  "interpreter": {
   "hash": "c69d1bf7a53832cd0f08d72949e75e194b0bf514d44a584700757793760547d4"
  },
  "kernelspec": {
   "display_name": "Python 3.9.12 ('base')",
   "language": "python",
   "name": "python3"
  },
  "language_info": {
   "codemirror_mode": {
    "name": "ipython",
    "version": 3
   },
   "file_extension": ".py",
   "mimetype": "text/x-python",
   "name": "python",
   "nbconvert_exporter": "python",
   "pygments_lexer": "ipython3",
   "version": "3.9.12"
  },
  "orig_nbformat": 4
 },
 "nbformat": 4,
 "nbformat_minor": 2
}
