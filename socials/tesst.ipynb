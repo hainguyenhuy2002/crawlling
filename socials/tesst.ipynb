{
 "cells": [
  {
   "cell_type": "code",
   "execution_count": 2,
   "metadata": {},
   "outputs": [],
   "source": [
    "import json\n",
    "import time\n",
    "\n",
    "import requests\n",
    "from urllib.parse import urlencode\n",
    "\n",
    "from utils.logger_utils import get_logger\n",
    "from databases.social_users_db import SocialUsersDB\n",
    "\n",
    "logger = get_logger('Crew3 User Crawler')"
   ]
  },
  {
   "cell_type": "code",
   "execution_count": 1,
   "metadata": {},
   "outputs": [
    {
     "name": "stdout",
     "output_type": "stream",
     "text": [
      "/Users/nguyenhuyhai/20222/lab_blockchain/crawl/crawlling\n"
     ]
    }
   ],
   "source": [
    "cd .."
   ]
  },
  {
   "cell_type": "code",
   "execution_count": 3,
   "metadata": {},
   "outputs": [],
   "source": [
    "# with open('test/Crew3/communities.json') as f:\n",
    "#             data = json.load(f)\n",
    "#             data = [q for q in data if q['totalMembers']]\n",
    "\n",
    "# logger.info(\"###############################\")\n",
    "# logger.info(f'There are {len(data)} communities')\n",
    "# logger.info(\"###############################\\n\")\n",
    "\n",
    "# users = {}\n",
    "# try:\n",
    "#     for idx, quest in enumerate(data):\n",
    "#         if idx == 10:\n",
    "#             break\n",
    "#         logger.info(f'[{idx}] Get users of {quest[\"name\"]}...')\n",
    "#         # subdomain = quest['subdomain']\n",
    "\n",
    "#         # leaderboard_resp = self._get_leaderboard(subdomain)\n",
    "#         # list_users = leaderboard_resp.json()['leaderboard']\n",
    "#         # logger.info(f'There are {len(list_users)} users to get info')\n",
    "\n",
    "#         data = {}\n",
    "#         # for user in list_users:\n",
    "#         #     user_id = user['userId']\n",
    "#         #     if user_id in users:\n",
    "#         #         continue\n",
    "#         #     else:\n",
    "#         #         try:\n",
    "#         #             questers_resp = self._get_user(subdomain=subdomain, user_id=user['userId'])\n",
    "#         #             if 200 <= questers_resp.status_code < 300:\n",
    "#         #                 questers_response = questers_resp.json()\n",
    "#         #                 q_ = self.format_quester(questers_response)\n",
    "#         #                 if q_:\n",
    "#         #                     data[user_id] = q_\n",
    "#         #             else:\n",
    "#         #                 raise requests.exceptions.RequestException(\n",
    "#         #                     f'Fail ({questers_resp.status_code}) to load user {user_id}')\n",
    "#         #         except Exception as ex:\n",
    "#         #             logger.exception(ex)\n",
    "#         #         finally:\n",
    "#         #             time.sleep(1)\n",
    "\n",
    "#         # users.update(data)\n",
    "#         # exporter.update_users(data)\n",
    "#         with open('data_'+f'{idx}'+'.json', 'w') as f:\n",
    "#             json.dump(data, f)\n",
    "#         logger.info(f'Saved {len(data)} users in {quest[\"name\"]}')\n",
    "#         logger.info(f'End {quest[\"name\"]} with {len(data)} [{len(users)}] users \\n')\n",
    "# except KeyboardInterrupt:\n",
    "#             logger.exception('Killed')\n",
    "# finally:\n",
    "#     with open('users.json', 'w') as f:\n",
    "#         json.dump(users, f)\n",
    "#     logger.info(f'Saved {len(users)} users')"
   ]
  },
  {
   "cell_type": "code",
   "execution_count": 4,
   "metadata": {},
   "outputs": [],
   "source": [
    "import pandas as pd"
   ]
  },
  {
   "cell_type": "code",
   "execution_count": 5,
   "metadata": {},
   "outputs": [
    {
     "name": "stdout",
     "output_type": "stream",
     "text": [
      "README.md         \u001b[34mdatabases\u001b[m\u001b[m/        \u001b[34msocials\u001b[m\u001b[m/          \u001b[34mutils\u001b[m\u001b[m/\n",
      "\u001b[34mcli\u001b[m\u001b[m/              main.py           \u001b[34mtest\u001b[m\u001b[m/\n",
      "crawl.ipynb       requirements.txt  test.ipynb\n"
     ]
    }
   ],
   "source": [
    "ls"
   ]
  },
  {
   "cell_type": "code",
   "execution_count": 6,
   "metadata": {},
   "outputs": [],
   "source": [
    "data =pd.read_json(\"test/Crew3/communities.json\")"
   ]
  },
  {
   "cell_type": "code",
   "execution_count": 17,
   "metadata": {},
   "outputs": [
    {
     "data": {
      "text/html": [
       "<div>\n",
       "<style scoped>\n",
       "    .dataframe tbody tr th:only-of-type {\n",
       "        vertical-align: middle;\n",
       "    }\n",
       "\n",
       "    .dataframe tbody tr th {\n",
       "        vertical-align: top;\n",
       "    }\n",
       "\n",
       "    .dataframe thead th {\n",
       "        text-align: right;\n",
       "    }\n",
       "</style>\n",
       "<table border=\"1\" class=\"dataframe\">\n",
       "  <thead>\n",
       "    <tr style=\"text-align: right;\">\n",
       "      <th></th>\n",
       "      <th>id</th>\n",
       "      <th>name</th>\n",
       "      <th>subdomain</th>\n",
       "      <th>totalMembers</th>\n",
       "    </tr>\n",
       "  </thead>\n",
       "  <tbody>\n",
       "    <tr>\n",
       "      <th>5000</th>\n",
       "      <td>100b73a3-f9f0-4afa-abb4-1ca3891dc5a1</td>\n",
       "      <td>MaxQuest</td>\n",
       "      <td>maxquest</td>\n",
       "      <td>4</td>\n",
       "    </tr>\n",
       "    <tr>\n",
       "      <th>5001</th>\n",
       "      <td>138a60bb-a73e-4521-a942-dd9e3cf3a701</td>\n",
       "      <td>SamuraiLynx</td>\n",
       "      <td>samurailynx</td>\n",
       "      <td>4</td>\n",
       "    </tr>\n",
       "    <tr>\n",
       "      <th>5002</th>\n",
       "      <td>059ea0fd-2d12-43f6-af5a-87ffb94abd95</td>\n",
       "      <td>三国志</td>\n",
       "      <td>sanguo</td>\n",
       "      <td>4</td>\n",
       "    </tr>\n",
       "    <tr>\n",
       "      <th>5003</th>\n",
       "      <td>5662da1c-4cca-4a07-8e80-455ff32154fc</td>\n",
       "      <td>Jump.trade</td>\n",
       "      <td>jumptrade</td>\n",
       "      <td>4</td>\n",
       "    </tr>\n",
       "    <tr>\n",
       "      <th>5004</th>\n",
       "      <td>6e617d11-e52f-4f1a-a171-2f3f9d70ea46</td>\n",
       "      <td>MetaUnion</td>\n",
       "      <td>metaunion</td>\n",
       "      <td>4</td>\n",
       "    </tr>\n",
       "    <tr>\n",
       "      <th>...</th>\n",
       "      <td>...</td>\n",
       "      <td>...</td>\n",
       "      <td>...</td>\n",
       "      <td>...</td>\n",
       "    </tr>\n",
       "    <tr>\n",
       "      <th>56090</th>\n",
       "      <td>5470f3a8-3703-4543-83ad-84deb15cbe0c</td>\n",
       "      <td>Alocom</td>\n",
       "      <td>alocom</td>\n",
       "      <td>0</td>\n",
       "    </tr>\n",
       "    <tr>\n",
       "      <th>56091</th>\n",
       "      <td>65e42563-181c-4762-94d1-ea839788f950</td>\n",
       "      <td>haolian123456</td>\n",
       "      <td>haolian123456</td>\n",
       "      <td>0</td>\n",
       "    </tr>\n",
       "    <tr>\n",
       "      <th>56092</th>\n",
       "      <td>640e80f7-0fb8-4149-bd51-c3fb62a158e9</td>\n",
       "      <td>MR YASH RAJ</td>\n",
       "      <td>yash806</td>\n",
       "      <td>0</td>\n",
       "    </tr>\n",
       "    <tr>\n",
       "      <th>56093</th>\n",
       "      <td>5d2d0e7c-691e-4a05-a56c-4a822c4b9f6b</td>\n",
       "      <td>Cryptoclamo</td>\n",
       "      <td>cryptoclamo</td>\n",
       "      <td>0</td>\n",
       "    </tr>\n",
       "    <tr>\n",
       "      <th>56094</th>\n",
       "      <td>64e197e3-7ce7-4de0-9101-bc73f2cafdb9</td>\n",
       "      <td>Oraichain</td>\n",
       "      <td>oraichain</td>\n",
       "      <td>0</td>\n",
       "    </tr>\n",
       "  </tbody>\n",
       "</table>\n",
       "<p>51095 rows × 4 columns</p>\n",
       "</div>"
      ],
      "text/plain": [
       "                                         id           name      subdomain  \\\n",
       "5000   100b73a3-f9f0-4afa-abb4-1ca3891dc5a1       MaxQuest       maxquest   \n",
       "5001   138a60bb-a73e-4521-a942-dd9e3cf3a701    SamuraiLynx    samurailynx   \n",
       "5002   059ea0fd-2d12-43f6-af5a-87ffb94abd95            三国志         sanguo   \n",
       "5003   5662da1c-4cca-4a07-8e80-455ff32154fc     Jump.trade      jumptrade   \n",
       "5004   6e617d11-e52f-4f1a-a171-2f3f9d70ea46      MetaUnion      metaunion   \n",
       "...                                     ...            ...            ...   \n",
       "56090  5470f3a8-3703-4543-83ad-84deb15cbe0c         Alocom         alocom   \n",
       "56091  65e42563-181c-4762-94d1-ea839788f950  haolian123456  haolian123456   \n",
       "56092  640e80f7-0fb8-4149-bd51-c3fb62a158e9    MR YASH RAJ        yash806   \n",
       "56093  5d2d0e7c-691e-4a05-a56c-4a822c4b9f6b    Cryptoclamo    cryptoclamo   \n",
       "56094  64e197e3-7ce7-4de0-9101-bc73f2cafdb9      Oraichain      oraichain   \n",
       "\n",
       "       totalMembers  \n",
       "5000              4  \n",
       "5001              4  \n",
       "5002              4  \n",
       "5003              4  \n",
       "5004              4  \n",
       "...             ...  \n",
       "56090             0  \n",
       "56091             0  \n",
       "56092             0  \n",
       "56093             0  \n",
       "56094             0  \n",
       "\n",
       "[51095 rows x 4 columns]"
      ]
     },
     "execution_count": 17,
     "metadata": {},
     "output_type": "execute_result"
    }
   ],
   "source": [
    "data.loc[5000:]"
   ]
  },
  {
   "cell_type": "code",
   "execution_count": null,
   "metadata": {},
   "outputs": [],
   "source": []
  }
 ],
 "metadata": {
  "interpreter": {
   "hash": "c69d1bf7a53832cd0f08d72949e75e194b0bf514d44a584700757793760547d4"
  },
  "kernelspec": {
   "display_name": "Python 3.9.12 ('base')",
   "language": "python",
   "name": "python3"
  },
  "language_info": {
   "codemirror_mode": {
    "name": "ipython",
    "version": 3
   },
   "file_extension": ".py",
   "mimetype": "text/x-python",
   "name": "python",
   "nbconvert_exporter": "python",
   "pygments_lexer": "ipython3",
   "version": "3.9.12"
  },
  "orig_nbformat": 4
 },
 "nbformat": 4,
 "nbformat_minor": 2
}
