{
 "cells": [
  {
   "cell_type": "code",
   "execution_count": 2,
   "metadata": {},
   "outputs": [],
   "source": [
    "import json\n",
    "import time\n",
    "\n",
    "import requests\n",
    "from urllib.parse import urlencode\n",
    "\n",
    "from utils.logger_utils import get_logger\n",
    "from databases.social_users_db import SocialUsersDB\n",
    "\n",
    "logger = get_logger('Crew3 User Crawler')"
   ]
  },
  {
   "cell_type": "code",
   "execution_count": 1,
   "metadata": {},
   "outputs": [
    {
     "name": "stdout",
     "output_type": "stream",
     "text": [
      "/Users/nguyenhuyhai/20222/lab_blockchain/crawl/crawlling\n"
     ]
    }
   ],
   "source": [
    "cd .."
   ]
  },
  {
   "cell_type": "code",
   "execution_count": 3,
   "metadata": {},
   "outputs": [],
   "source": [
    "# with open('test/Crew3/communities.json') as f:\n",
    "#             data = json.load(f)\n",
    "#             data = [q for q in data if q['totalMembers']]\n",
    "\n",
    "# logger.info(\"###############################\")\n",
    "# logger.info(f'There are {len(data)} communities')\n",
    "# logger.info(\"###############################\\n\")\n",
    "\n",
    "# users = {}\n",
    "# try:\n",
    "#     for idx, quest in enumerate(data):\n",
    "#         if idx == 10:\n",
    "#             break\n",
    "#         logger.info(f'[{idx}] Get users of {quest[\"name\"]}...')\n",
    "#         # subdomain = quest['subdomain']\n",
    "\n",
    "#         # leaderboard_resp = self._get_leaderboard(subdomain)\n",
    "#         # list_users = leaderboard_resp.json()['leaderboard']\n",
    "#         # logger.info(f'There are {len(list_users)} users to get info')\n",
    "\n",
    "#         data = {}\n",
    "#         # for user in list_users:\n",
    "#         #     user_id = user['userId']\n",
    "#         #     if user_id in users:\n",
    "#         #         continue\n",
    "#         #     else:\n",
    "#         #         try:\n",
    "#         #             questers_resp = self._get_user(subdomain=subdomain, user_id=user['userId'])\n",
    "#         #             if 200 <= questers_resp.status_code < 300:\n",
    "#         #                 questers_response = questers_resp.json()\n",
    "#         #                 q_ = self.format_quester(questers_response)\n",
    "#         #                 if q_:\n",
    "#         #                     data[user_id] = q_\n",
    "#         #             else:\n",
    "#         #                 raise requests.exceptions.RequestException(\n",
    "#         #                     f'Fail ({questers_resp.status_code}) to load user {user_id}')\n",
    "#         #         except Exception as ex:\n",
    "#         #             logger.exception(ex)\n",
    "#         #         finally:\n",
    "#         #             time.sleep(1)\n",
    "\n",
    "#         # users.update(data)\n",
    "#         # exporter.update_users(data)\n",
    "#         with open('data_'+f'{idx}'+'.json', 'w') as f:\n",
    "#             json.dump(data, f)\n",
    "#         logger.info(f'Saved {len(data)} users in {quest[\"name\"]}')\n",
    "#         logger.info(f'End {quest[\"name\"]} with {len(data)} [{len(users)}] users \\n')\n",
    "# except KeyboardInterrupt:\n",
    "#             logger.exception('Killed')\n",
    "# finally:\n",
    "#     with open('users.json', 'w') as f:\n",
    "#         json.dump(users, f)\n",
    "#     logger.info(f'Saved {len(users)} users')"
   ]
  },
  {
   "cell_type": "code",
   "execution_count": null,
   "metadata": {},
   "outputs": [],
   "source": []
  }
 ],
 "metadata": {
  "interpreter": {
   "hash": "c69d1bf7a53832cd0f08d72949e75e194b0bf514d44a584700757793760547d4"
  },
  "kernelspec": {
   "display_name": "Python 3.9.12 ('base')",
   "language": "python",
   "name": "python3"
  },
  "language_info": {
   "codemirror_mode": {
    "name": "ipython",
    "version": 3
   },
   "file_extension": ".py",
   "mimetype": "text/x-python",
   "name": "python",
   "nbconvert_exporter": "python",
   "pygments_lexer": "ipython3",
   "version": "3.9.12"
  },
  "orig_nbformat": 4
 },
 "nbformat": 4,
 "nbformat_minor": 2
}
